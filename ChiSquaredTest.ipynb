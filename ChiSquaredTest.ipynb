{
 "cells": [
  {
   "cell_type": "code",
   "execution_count": 235,
   "metadata": {},
   "outputs": [
    {
     "data": {
      "image/png": "[encoded data removed]",
      "text/plain": [
       "<Figure size 864x432 with 2 Axes>"
      ]
     },
     "metadata": {
      "needs_background": "light"
     },
     "output_type": "display_data"
    }
   ],
   "source": [
    "import numpy as np\n",
    "import matplotlib.pyplot as plt\n",
    "\n",
    "num_samples = 10000\n",
    "bins = 100\n",
    "\n",
    "Z = np.random.normal(0, 1, num_samples)\n",
    "\n",
    "fig, ax = plt.subplots(1,2,figsize=(12,6))\n",
    "hist, bin_edges = np.histogram(Z, bins=bins)\n",
    "ax[0].set_title(r\"$Z \\sim N(0, 1^2)$\")\n",
    "ax[0].bar(bin_edges[:-1], hist, width=np.diff(bin_edges))\n",
    "ax[0].set_xlim(-5,5)\n",
    "ax[0].set_xlabel('$Z$')\n",
    "\n",
    "hist, bin_edges = np.histogram(Z**2, bins=bins)\n",
    "ax[1].set_title(r\"$Z^2 \\sim \\chi^2(k=1)$\")\n",
    "ax[1].bar(bin_edges[:-1], hist, width=np.diff(bin_edges))\n",
    "ax[1].set_xlim(0)\n",
    "ax[1].set_xlabel('$Z^2$')\n",
    "plt.show()"
   ]
  },
  {
   "cell_type": "code",
   "execution_count": 242,
   "metadata": {},
   "outputs": [
    {
     "data": {
      "application/vnd.jupyter.widget-view+json": {
       "model_id": "3219990133af45c4b297398db7c45b36",
       "version_major": 2,
       "version_minor": 0
      },
      "text/plain": [
       "interactive(children=(IntSlider(value=1, description='k', max=16, min=1), Output()), _dom_classes=('widget-int…"
      ]
     },
     "metadata": {},
     "output_type": "display_data"
    }
   ],
   "source": [
    "from ipywidgets import interactive\n",
    "\n",
    "def plot(k=1):\n",
    "    num_samples = 1000\n",
    "    bins = 50\n",
    "\n",
    "    np.random.seed(42)\n",
    "\n",
    "    fig, ax = plt.subplots(1,2,figsize=(12,6))\n",
    "    ax[0].set_title(r\"$Z \\sim N(0, 1^2)$\")\n",
    "    ax[0].set_xlabel('$Z$')\n",
    "    ax[0].set_xlim(-5,5)\n",
    "    ax[0].set_ylim(0,80)\n",
    "\n",
    "    for i in range(k):\n",
    "        Z = np.random.normal(0, 1, num_samples)\n",
    "        hist, bin_edges = np.histogram(Z, bins=bins)\n",
    "        ax[0].bar(bin_edges[:-1], hist, width=np.diff(bin_edges), alpha=.2, label=\"$Z_{\"+str(i+1)+\"}$\")\n",
    "    ax[0].legend()\n",
    "\n",
    "    Z_squared = np.zeros(num_samples)\n",
    "    for i in range(k):\n",
    "        Z_squared += np.random.normal(0, 1, num_samples) ** 2\n",
    "    hist, bin_edges = np.histogram(Z_squared, bins=bins)\n",
    "    ax[1].set_title(rf\"$\\sum_i Z_i^2 \\sim \\chi^2(k={k})$ ($\\mu={k}$, $\\sigma^2={2*k}$)\")\n",
    "    ax[1].bar(bin_edges[:-1], hist, width=np.diff(bin_edges))\n",
    "    ax[1].set_xlim(0,40)\n",
    "    ax[1].set_ylim(0,200)\n",
    "    ax[1].set_xlabel('$Z^2$')\n",
    "    plt.show()\n",
    "\n",
    "interactive(plot, k=(1,16,1))"
   ]
  },
  {
   "cell_type": "markdown",
   "metadata": {},
   "source": [
    "$$\n",
    "X_1, X_2, \\cdots , X_n \\sim \\mathcal N(\\mu, \\sigma^2) \\\\\n",
    "$$\n",
    "\n",
    "\n",
    "sample mean: $\\bar X$ \\\n",
    "sample variance: $s^2 = \\frac{1}{N-1} \\sum_{i=1}^{n} (X_i - \\bar X)^2$\n",
    "\n",
    "$$\n",
    "\\frac{(N-1)s^2}{\\sigma^2} \\sim \\chi_{n-1}^2\n",
    "$$"
   ]
  },
  {
   "cell_type": "code",
   "execution_count": 313,
   "metadata": {},
   "outputs": [
    {
     "data": {
      "image/png": "[encoded data removed]",
      "text/plain": [
       "<Figure size 432x288 with 1 Axes>"
      ]
     },
     "metadata": {
      "needs_background": "light"
     },
     "output_type": "display_data"
    }
   ],
   "source": [
    "n = 10\n",
    "sigma = 1\n",
    "\n",
    "x_squared = []\n",
    "\n",
    "for _ in range(1000):\n",
    "    X = np.random.normal(loc=0, scale=sigma, size=n)\n",
    "    s = X.std()\n",
    "    x_squared.append((n-1) * s**2 / sigma**2)\n",
    "\n",
    "plt.title(f\"$\\chi^2({n-1})$\")\n",
    "plt.hist(x_squared, bins=100)\n",
    "plt.show()"
   ]
  },
  {
   "cell_type": "markdown",
   "metadata": {},
   "source": [
    "### Association test between disease and a variant (PLINK)\n",
    "\n",
    "The genotypic test provides a general test of association in the 2-by-3 table of disease-by-genotype. The dominant and recessive models are tests for the minor allele (which is the minor allele can be found in the output of either the --assoc or the --freq commands. That is, if D is the minor allele (and d is the major allele):\n",
    "\n",
    "```\n",
    "Allelic:         D        versus      d\n",
    "Dominant:     (DD, Dd)    versus      dd\n",
    "Recessive:       DD       versus   (Dd, dd)\n",
    "Genotypic:       DD       versus      Dd         versus    dd\n",
    "```"
   ]
  },
  {
   "cell_type": "markdown",
   "metadata": {},
   "source": []
  }
 ],
 "metadata": {
  "kernelspec": {
   "display_name": "base",
   "language": "python",
   "name": "python3"
  },
  "language_info": {
   "codemirror_mode": {
    "name": "ipython",
    "version": 3
   },
   "file_extension": ".py",
   "mimetype": "text/x-python",
   "name": "python",
   "nbconvert_exporter": "python",
   "pygments_lexer": "ipython3",
   "version": "3.9.12"
  }
 },
 "nbformat": 4,
 "nbformat_minor": 2
}
