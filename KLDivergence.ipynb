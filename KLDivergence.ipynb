{
 "cells": [
  {
   "cell_type": "markdown",
   "metadata": {},
   "source": [
    "### KL Divergence\n",
    "\n",
    "$Q$ distribution is the reference.\n",
    "\n",
    "$D_{\\mathrm{KL}}(P||Q)$: How different $P$ is against $Q$\n",
    "\n",
    "$$\n",
    "D_{\\mathrm{KL}}(P||Q) = \\sum_{x\\in\\chi} P(x) \\log\\left(\\frac{P(x)}{Q(x)}\\right)\n",
    "$$"
   ]
  },
  {
   "cell_type": "code",
   "execution_count": 209,
   "metadata": {},
   "outputs": [
    {
     "data": {
      "image/png": "[encoded data removed]",
      "text/plain": [
       "<Figure size 400x300 with 2 Axes>"
      ]
     },
     "metadata": {},
     "output_type": "display_data"
    }
   ],
   "source": [
    "import numpy as np\n",
    "import matplotlib.pyplot as plt\n",
    "\n",
    "P = np.array([.5, .4, .1])\n",
    "Q = np.array([.5, .1, .4])\n",
    "\n",
    "fig, ax = plt.subplots(1,2,figsize=(4,3))\n",
    "\n",
    "ax[0].set_title('$P$ (ground truth)')\n",
    "ax[0].bar(list('ABC'), P)\n",
    "ax[0].set_ylim(0,1)\n",
    "\n",
    "ax[1].set_title('$Q$ (predicted)')\n",
    "ax[1].bar(list('ABC'), Q)\n",
    "ax[1].set_ylim(0,1)\n",
    "\n",
    "plt.tight_layout()\n",
    "plt.show()"
   ]
  },
  {
   "cell_type": "code",
   "execution_count": 210,
   "metadata": {},
   "outputs": [
    {
     "name": "stdout",
     "output_type": "stream",
     "text": [
      "0.4158883083359671\n"
     ]
    }
   ],
   "source": [
    "kl = np.sum(P * np.log(P/Q)) # weighted average with respective to the porportion of dist P (ground truth) \n",
    "print(kl)"
   ]
  },
  {
   "cell_type": "markdown",
   "metadata": {},
   "source": [
    "$$\n",
    "D_{\\mathrm{KL}}(P||Q) = \\int_{-\\infty}^{\\infty} p(x) \\log \\left( \\frac{p(x)}{q(x)} \\right) dx\n",
    "$$"
   ]
  },
  {
   "cell_type": "code",
   "execution_count": 211,
   "metadata": {},
   "outputs": [
    {
     "data": {
      "application/vnd.jupyter.widget-view+json": {
       "model_id": "3f83d6da091442deb914f69b285b0b72",
       "version_major": 2,
       "version_minor": 0
      },
      "text/plain": [
       "interactive(children=(FloatSlider(value=-6.0, description='mu', max=6.0, min=-6.0), FloatSlider(value=1.0, des…"
      ]
     },
     "execution_count": 211,
     "metadata": {},
     "output_type": "execute_result"
    }
   ],
   "source": [
    "from ipywidgets import interactive\n",
    "from scipy.stats import norm\n",
    "\n",
    "\n",
    "def plot(mu=-6, sigma=1):\n",
    "    fig, ax = plt.subplots(2,1,figsize=(6,4))\n",
    "\n",
    "    x = np.linspace(-10, 10, 2001)\n",
    "\n",
    "    P = norm.pdf(x)\n",
    "    Q = norm.pdf(x, loc=mu, scale=sigma)\n",
    "\n",
    "    f = P * np.log(P/Q)\n",
    "    kl = (f * 0.01).sum()\n",
    "\n",
    "    ax[0].plot(x, P, label=\"$P$\")\n",
    "    ax[0].plot(x, Q, label=\"$Q$\")\n",
    "    ax[0].set_xlim(-10, 10)\n",
    "    ax[0].legend(loc='upper right')\n",
    "    ax[0].set_title(r\"$D_{\\mathrm{KL}}(P||Q) = $\" + f\"{kl:.5f}\")\n",
    "\n",
    "    ax[1].plot(x, f, label=r\"$p(x)\\ \\log\\left(\\dfrac{p(x)}{q(x)}\\right)$\")\n",
    "    ax[1].set_xlim(-10, 10)\n",
    "    ax[1].axhline(0, lw=1, c='grey')\n",
    "    m = np.abs(f).max() * 1.1\n",
    "    if m != 0:\n",
    "        ax[1].set_ylim(-m,m)\n",
    "    ax[1].legend(loc='lower right')\n",
    "\n",
    "    fig.gca().yaxis.set_major_formatter(\"{:.1f}\".format)\n",
    "    fig.tight_layout()\n",
    "    plt.show()\n",
    "\n",
    "interactive(plot, mu=(-6,6,.1), sigma=(1,2,.1))"
   ]
  },
  {
   "cell_type": "code",
   "execution_count": 245,
   "metadata": {},
   "outputs": [
    {
     "data": {
      "application/vnd.jupyter.widget-view+json": {
       "model_id": "674c80ce65f5400b9fe8b1ea31d8d787",
       "version_major": 2,
       "version_minor": 0
      },
      "text/plain": [
       "interactive(children=(FloatSlider(value=-10.0, description='Q_mu', max=10.0, min=-10.0), FloatSlider(value=1.0…"
      ]
     },
     "execution_count": 245,
     "metadata": {},
     "output_type": "execute_result"
    }
   ],
   "source": [
    "from collections import deque\n",
    "from ipywidgets import interactive\n",
    "from scipy.stats import norm\n",
    "\n",
    "history = deque(maxlen=100)\n",
    "prev_setting = None\n",
    "\n",
    "def plot(Q_mu=-10, Q_sigma=1, P1_mu=-2, P1_sigma=1, P2_mu=4, P2_sigma=2, P_ratio=.5):\n",
    "\n",
    "    global prev_setting\n",
    "    if prev_setting != (Q_sigma, P1_mu, P1_sigma, P2_mu, P2_sigma, P_ratio):\n",
    "        prev_setting = (Q_sigma, P1_mu, P1_sigma, P2_mu, P2_sigma, P_ratio)\n",
    "        history.clear()\n",
    "\n",
    "    fig, ax = plt.subplots(3,1,figsize=(8,8))\n",
    "\n",
    "    x = np.linspace(-20, 20, 4001)\n",
    "\n",
    "    P = norm.pdf(x, P1_mu, P1_sigma)*P_ratio + norm.pdf(x, P2_mu, P2_sigma)*(1-P_ratio)\n",
    "    Q = norm.pdf(x, loc=Q_mu, scale=Q_sigma)\n",
    "\n",
    "    f = P * np.log(P/Q)\n",
    "    kl = (f * 0.01).sum()\n",
    "\n",
    "    ax[0].plot(x, P, label=rf\"$P \\sim {P_ratio:.1f} N({P1_mu:.1f},{P2_sigma:.1f}^2) + {1-P_ratio:.1f} N({P2_mu:.1f},{P2_sigma:.1f}^2)$\")\n",
    "    ax[0].plot(x, Q, label=rf\"$Q \\sim N({Q_mu:.1f},{Q_sigma:.1f}^2)$\")\n",
    "    ax[0].set_xlim(-10, 10)\n",
    "    ax[0].legend(loc='upper right')\n",
    "    ax[0].set_title(r\"$D_{\\mathrm{KL}}(P||Q) = $\" + f\"{kl:.5f}\")\n",
    "\n",
    "    ax[1].plot(x, f, label=r\"$p(x)\\ \\log\\left(\\dfrac{p(x)}{q(x)}\\right)$\")\n",
    "    ax[1].set_xlim(-10, 10)\n",
    "    ax[1].axhline(0, lw=1, c='grey')\n",
    "    m = np.abs(f).max() * 1.1\n",
    "    if m != 0:\n",
    "        ax[1].set_ylim(-m,m)\n",
    "    ax[1].legend(loc='lower right')\n",
    "\n",
    "    history.append([Q_mu, kl])\n",
    "    a = np.array(history)\n",
    "    ax[2].plot(*a[a[:,0].argsort()].T, marker='.', alpha=.4)\n",
    "    ax[2].scatter(*a[np.argmin(a[:,1])], marker='X', c='r', label=a[np.argmin(a[:,1])])\n",
    "    ax[2].set_xlim(-10, 10)\n",
    "    ax[2].set_ylim(-1)\n",
    "    ax[2].legend()\n",
    "\n",
    "    ax[0].yaxis.set_major_formatter(\"{:.1f}\".format)\n",
    "    ax[1].yaxis.set_major_formatter(\"{:.1f}\".format)\n",
    "    ax[2].yaxis.set_major_formatter(\"{:.1f}\".format)\n",
    "    \n",
    "    fig.tight_layout()\n",
    "    plt.show()\n",
    "\n",
    "interactive(plot, Q_mu=(-10,10,.1), Q_sigma=(1,4,.1), P1_mu=(-10,10,.1), P1_sigma=(1,4,.1), P2_mu=(-10,10,.1), P2_sigma=(1,4,.1), P_ratio=(0,1,.1))"
   ]
  }
 ],
 "metadata": {
  "kernelspec": {
   "display_name": "base",
   "language": "python",
   "name": "python3"
  },
  "language_info": {
   "codemirror_mode": {
    "name": "ipython",
    "version": 3
   },
   "file_extension": ".py",
   "mimetype": "text/x-python",
   "name": "python",
   "nbconvert_exporter": "python",
   "pygments_lexer": "ipython3",
   "version": "3.10.12"
  }
 },
 "nbformat": 4,
 "nbformat_minor": 2
}
