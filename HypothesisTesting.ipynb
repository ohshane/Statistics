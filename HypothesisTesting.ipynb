{
 "cells": [
  {
   "cell_type": "markdown",
   "metadata": {},
   "source": [
    "<div style=\"display: flex; justify-content: center;\">\n",
    "    <image src=\"hypothesis_testing.png\" height=400 />\n",
    "</div>"
   ]
  },
  {
   "cell_type": "markdown",
   "metadata": {},
   "source": [
    "$$\n",
    "\\begin{align*}\n",
    "Z &= \\frac{\\bar{x} - \\mu}{\\dfrac{\\sigma}{\\sqrt{n}}} \\\\\n",
    "Z &= \\frac{d}{\\dfrac{\\sigma}{\\sqrt{n}}} \\\\\n",
    "\\frac{Z^2 \\sigma^2}{n} &= d^2 \\\\\n",
    "\\frac{Z^2 \\sigma^2}{d^2} &= n \\\\\n",
    "\\end{align*}\n",
    "$$\n",
    "\n",
    "$$\n",
    "\\frac{(Z_{\\alpha/2} + Z_{\\beta})^2 \\sigma^2}{(\\varepsilon - \\delta)^2}\n",
    "$$"
   ]
  }
 ],
 "metadata": {
  "kernelspec": {
   "display_name": "base",
   "language": "python",
   "name": "python3"
  },
  "language_info": {
   "codemirror_mode": {
    "name": "ipython",
    "version": 3
   },
   "file_extension": ".py",
   "mimetype": "text/x-python",
   "name": "python",
   "nbconvert_exporter": "python",
   "pygments_lexer": "ipython3",
   "version": "3.11.3"
  }
 },
 "nbformat": 4,
 "nbformat_minor": 2
}
