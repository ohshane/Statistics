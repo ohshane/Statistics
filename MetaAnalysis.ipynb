{
 "cells": [
  {
   "cell_type": "code",
   "execution_count": 323,
   "metadata": {},
   "outputs": [],
   "source": [
    "import matplotlib.pyplot as plt\n",
    "import numpy as np"
   ]
  },
  {
   "cell_type": "code",
   "execution_count": 390,
   "metadata": {},
   "outputs": [],
   "source": [
    "cm = np.array([[160, 40],\n",
    "               [ 30, 70]])\n",
    "\n",
    "TP, FN, FP, TN = cm.ravel()\n",
    "tpr, fnr, fpr, tnr = (cm / cm.sum(1, keepdims=True)).ravel()\n",
    "ppv, npv = cm.diagonal() / cm.sum(0)\n",
    "\n",
    "prec = ppv\n",
    "recall = tpr\n",
    "\n",
    "sens = tpr\n",
    "spec = tnr"
   ]
  },
  {
   "cell_type": "markdown",
   "metadata": {},
   "source": [
    "$$\n",
    "\\text{OR} = \\dfrac{\\text{Happened}}{\\lnot \\ \\text{Happened}} \\\\[20pt]\n",
    "\n",
    "\\begin{matrix}\n",
    "\\text{LR}+ & \\text{LR}- \\\\[10pt]\n",
    "\\dfrac{\\text{TPR}}{\\text{FPR}} & \\dfrac{\\text{FNR}}{\\text{TNR}}\n",
    "\\end{matrix} \\\\[20pt]\n",
    "\n",
    "\\text{DOR} \\\\[10pt]\n",
    "\\dfrac{\\text{TPR}}{\\text{FPR}} / \\dfrac{\\text{FNR}}{\\text{TNR}}\n",
    "\n",
    "$$"
   ]
  },
  {
   "cell_type": "code",
   "execution_count": null,
   "metadata": {},
   "outputs": [],
   "source": []
  }
 ],
 "metadata": {
  "kernelspec": {
   "display_name": "base",
   "language": "python",
   "name": "python3"
  },
  "language_info": {
   "codemirror_mode": {
    "name": "ipython",
    "version": 3
   },
   "file_extension": ".py",
   "mimetype": "text/x-python",
   "name": "python",
   "nbconvert_exporter": "python",
   "pygments_lexer": "ipython3",
   "version": "3.11.4"
  }
 },
 "nbformat": 4,
 "nbformat_minor": 2
}
